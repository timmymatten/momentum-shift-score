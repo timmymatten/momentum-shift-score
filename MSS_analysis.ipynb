{
 "cells": [
  {
   "cell_type": "markdown",
   "id": "7b98bed8",
   "metadata": {},
   "source": [
    "# Momentum Shift Score: Quantifying Career-Altering Moments in Major League Baseball\n",
    "\n",
    "### Objectives:\n",
    "This analysis focuses on identifying and evaluating pivotal moments in baseball games—specifically, events involving a pitched ball that result in the greatest changes in Win Probability Added (WPA). The goal is to assess how these moments influence the career trajectories of both the pitcher and the hitter. By quantifying this phenomenon into a single metric, we aim to provide a comprehensive narrative of how critical moments can shape the careers of the players involved.\n",
    "\n",
    "### Table of Contents\n",
    "| **Topic** | **Page** |\n",
    "| --------- | -------- |\n",
    "| **Analysis 1** : Pete Alonso HR off Devin Williams | 1 | \n",
    "| **Sentiment Analysis 1** | 2 |\n",
    "| **Finding Pivotal Moments** | 3 |\n",
    "\n",
    "### Definitions:\n",
    "* A \"moment\" for which a Momentum Shift Score (MSS) can be assigned is a single pitch with an outcome. So a moment is all of a pithces attributes that are obtained from a Baseball Savant query"
   ]
  },
  {
   "cell_type": "markdown",
   "metadata": {},
   "source": [
    "# Introduction\n",
    "\n",
    "Baseball, often referred to as America’s pastime, is a sport deeply rooted in tradition and statistical analysis. Over the years, the advent of advanced metrics has revolutionized the way the game is understood, evaluated, and appreciated. Among these metrics, Win Probability Added (WPA) has emerged as a powerful tool to quantify the impact of individual plays on the outcome of a game. However, while WPA provides a game-level perspective, its implications on the career trajectories of players remain largely unexplored.\n",
    "\n",
    "This project seeks to bridge that gap by introducing the concept of the Momentum Shift Score (MSS). The MSS is designed to quantify career-altering moments in Major League Baseball (MLB), focusing on pivotal events that result in significant changes in WPA. By analyzing these moments, we aim to uncover their influence on the long-term narratives of the players involved—both pitchers and hitters.\n",
    "\n",
    "Through a combination of data-driven analysis and contextual storytelling, this project will highlight how singular moments, such as a critical home run or a game-changing strikeout, can define or redefine a player’s career. By leveraging tools like Statcast data, sentiment analysis, and historical context, we aim to provide a comprehensive framework for understanding the intersection of performance, pressure, and legacy in professional baseball. \n",
    "\n",
    "Ultimately, this research aspires to contribute to the broader discourse on sports analytics, offering a novel perspective on how individual moments resonate beyond the confines of a single game, shaping the legacies of players and the narratives of the sport itself."
   ]
  },
  {
   "cell_type": "code",
   "execution_count": 1,
   "id": "ad0c5db3",
   "metadata": {},
   "outputs": [],
   "source": [
    "import pandas as pd # for data manipulation\n",
    "import numpy as np # for numerical operations\n",
    "import matplotlib.pyplot as plt # for plotting\n",
    "import seaborn as sns # for data visualization\n",
    "from sklearn.linear_model import LinearRegression # for regression analysis\n",
    "# from vaderSentiment.vaderSentiment import SentimentIntensityAnalyzer # for sentiment analysis\n",
    "from newspaper import Article # for web scraping\n",
    "import datetime \n",
    "import requests # for web requests\n",
    "import pybaseball as pyb # for baseball data\n",
    "# custom functions and utils (create mss_helpers.py later)\n"
   ]
  },
  {
   "cell_type": "code",
   "execution_count": 2,
   "id": "4cb303bc",
   "metadata": {},
   "outputs": [],
   "source": [
    "# load player ID spreadsheet\n",
    "mlbIDs = pd.read_csv('data/mlbIDs.csv')\n",
    "\n",
    "# Only need name and ID associated with the player\n",
    "mlbIDs = mlbIDs[['PLAYERNAME', 'MLBID']]\n",
    "mlbIDs['MLBID'] = mlbIDs['MLBID'].fillna(0).astype(int)"
   ]
  },
  {
   "cell_type": "code",
   "execution_count": 3,
   "id": "e3505403",
   "metadata": {},
   "outputs": [],
   "source": [
    "# function to clean statcast data\n",
    "# creates batter name column: merges the ID with the player name\n",
    "# renames the columns\n",
    "# drops unnecessary ID column\n",
    "def clean_statcast_data(df):\n",
    "    df = df.merge(mlbIDs, left_on='batter', right_on='MLBID', how='left')\n",
    "    df.rename(columns={'PLAYERNAME': 'batter_name'}, inplace=True)\n",
    "    df.drop(columns=['MLBID'], inplace=True)\n",
    "    df.rename(columns={'player_name': 'pitcher_name'}, inplace=True)\n",
    "    return df"
   ]
  },
  {
   "cell_type": "markdown",
   "id": "801b017a",
   "metadata": {},
   "source": [
    "```python\n",
    "# Load data\n",
    "\n",
    "# Load the statcast data for 2015-2024\n",
    "data_15_24 = stacast('2015-01-01', '2024-12-31')\n",
    "\n",
    "# find moments where the win expectancy for either ream changed by 0.5 or more\n",
    "pivotal_moment_data = data_15_24.loc[data_15_24['delta_home_win_exp'].abs() >= 0.5]\n",
    "\n",
    "# clean the resulting data\n",
    "pivotal_moment_data = clean_statcast_data(pivotal_moment_data)\n",
    "\n",
    "# Create delta_home_win_exp_abs column before reordering\n",
    "pivotal_moment_data['delta_home_win_exp_abs'] = pivotal_moment_data['delta_home_win_exp'].abs()\n",
    "\n",
    "# Reorder columns to place delta_win_exp columns first and batter_name next to pitcher_name\n",
    "cols = ['delta_home_win_exp', 'delta_home_win_exp_abs', 'pitcher_name', 'batter_name'] + \\\n",
    "    [col for col in pivotal_moment_data.columns if col not in ['delta_home_win_exp', 'delta_home_win_exp_abs', 'pitcher_name', 'batter_name']]\n",
    "\n",
    "# Reorder the DataFrame\n",
    "pivotal_moment_data = pivotal_moment_data[cols]\n",
    "\n",
    "# Save the cleaned data to a new CSV file\n",
    "pivotal_moment_data.to_csv('data/pivotal_moment_data.csv', index=False)\n",
    "```"
   ]
  },
  {
   "cell_type": "code",
   "execution_count": 10,
   "id": "b221f8d9",
   "metadata": {},
   "outputs": [],
   "source": [
    "# Load the cleaned pivotal moment data from saved CSV\n",
    "\n",
    "# Contains every pitch that resulted in a change in win expectancy by at least 50% from 2015-2024\n",
    "# i.e. a \"pivotal moment\"\n",
    "pivotal_moment_data = pd.read_csv('data/pivotal_moment_data.csv')\n"
   ]
  },
  {
   "cell_type": "markdown",
   "id": "70b1bca9",
   "metadata": {},
   "source": [
    "# Analysis 1\n",
    "## Pete Alonso HR off of Devin Williams\n",
    "### 2024 NL Wild Card - October 3"
   ]
  },
  {
   "cell_type": "markdown",
   "id": "be9ccc7d",
   "metadata": {},
   "source": [
    "Pull data from games played on October 3, 2024 by the Milwalkee Brewers"
   ]
  },
  {
   "cell_type": "code",
   "execution_count": null,
   "id": "d174a148-8f78-49e2-95a8-da5ebd3deba7",
   "metadata": {
    "ExecuteTime": {
     "end_time": "2025-05-09T22:08:47.676589Z",
     "start_time": "2025-05-09T22:08:45.745938Z"
    }
   },
   "outputs": [],
   "source": [
    "import pybaseball as pb\n",
    "\n",
    "mets_brewers_wc = pb.statcast('2024-10-03', team='MIL')\n",
    "mets_brewers_wc.head()"
   ]
  },
  {
   "cell_type": "markdown",
   "id": "ac47d8a2",
   "metadata": {},
   "source": [
    "### Find Pete Alonso's ID\n",
    "\n",
    "A simple eye search is all that was needed to find the infamous homer on this day.\n",
    "After finding the only HR hit off of Devin Williams we conclude Alonso's ID is as follows."
   ]
  },
  {
   "cell_type": "code",
   "execution_count": 7,
   "id": "6b7b1a8a",
   "metadata": {},
   "outputs": [],
   "source": [
    "pete_alonso_id = 624413"
   ]
  },
  {
   "cell_type": "markdown",
   "id": "ecb7b7a1",
   "metadata": {},
   "source": [
    "### Filter Alonso's at bat vs. Devin Williams\n",
    "\n",
    "Filter the game data by pitcher name and batter ID to narrow the data frame to the infamous home run at bat"
   ]
  },
  {
   "cell_type": "code",
   "execution_count": null,
   "id": "7d04143d",
   "metadata": {},
   "outputs": [],
   "source": [
    "alonso_williams_ab = mets_brewers_wc[\n",
    "    (mets_brewers_wc['player_name'] == 'Williams, Devin') & \n",
    "    (mets_brewers_wc['batter'] == pete_alonso_id)\n",
    "]\n",
    "alonso_williams_ab"
   ]
  },
  {
   "cell_type": "markdown",
   "id": "e090c1c1",
   "metadata": {},
   "source": [
    "# Sentiment Analysis for Alonso HR"
   ]
  },
  {
   "cell_type": "code",
   "execution_count": null,
   "id": "928f6063",
   "metadata": {},
   "outputs": [],
   "source": [
    "from newspaper import Article\n",
    "from serpapi import GoogleSearch\n",
    "\n",
    "# Use SerpAPI to search for articles\n",
    "def search_articles(query, num_results=5):\n",
    "    params = {\n",
    "        \"q\": query,\n",
    "        \"num\": num_results,\n",
    "        \"api_key\": \"df17a3ca952b8b0db1eb0612a7f5f97474d4b75ad20b335c818f78de9eeff3a2\"  # Replace with your SerpAPI key\n",
    "    }\n",
    "    search = GoogleSearch(params)\n",
    "    results = search.get_dict()\n",
    "    links = [result['link'] for result in results.get('organic_results', [])]\n",
    "    return links\n",
    "\n",
    "# Use Newspaper3k to extract article content\n",
    "def extract_article(url):\n",
    "    article = Article(url)\n",
    "    article.download()\n",
    "    article.parse()\n",
    "    return article.title, article.text\n",
    "\n",
    "# Demo\n",
    "query = \"Jose ALtuve walk-off home run against Aroldis Chapman interview OR article\"\n",
    "urls = search_articles(query)\n",
    "if not urls:\n",
    "    print(\"No articles found.\")\n",
    "else:\n",
    "    for url in urls:\n",
    "        try:\n",
    "            title, content = extract_article(url)\n",
    "            print(f\"Title: {title}\\n{content[:500]}...\\n\")\n",
    "        except Exception as e:\n",
    "            print(f\"Failed to extract article from {url}: {e}\")\n"
   ]
  },
  {
   "cell_type": "code",
   "execution_count": null,
   "id": "181609b4",
   "metadata": {},
   "outputs": [],
   "source": [
    "from serpapi import GoogleSearch\n",
    "\n",
    "params = {\n",
    "  \"q\": \"Cristiano Ronaldo\",\n",
    "  \"location\": \"Austin,Texas,United States\",\n",
    "  \"hl\": \"en\",\n",
    "  \"gl\": \"us\",\n",
    "  \"api_key\": \"df17a3ca952b8b0db1eb0612a7f5f97474d4b75ad20b335c818f78de9eeff3a2\"\n",
    "}\n",
    "\n",
    "search = GoogleSearch(params)\n",
    "results = search.get_dict()\n",
    "twitter_results = results[\"twitter_results\"]"
   ]
  }
 ],
 "metadata": {
  "kernelspec": {
   "display_name": "baseball",
   "language": "python",
   "name": "python3"
  },
  "language_info": {
   "codemirror_mode": {
    "name": "ipython",
    "version": 3
   },
   "file_extension": ".py",
   "mimetype": "text/x-python",
   "name": "python",
   "nbconvert_exporter": "python",
   "pygments_lexer": "ipython3",
   "version": "3.12.9"
  }
 },
 "nbformat": 4,
 "nbformat_minor": 5
}
